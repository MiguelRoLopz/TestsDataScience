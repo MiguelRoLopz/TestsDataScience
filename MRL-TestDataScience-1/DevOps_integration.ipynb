{
 "cells": [
  {
   "cell_type": "markdown",
   "metadata": {},
   "source": [
    "# Inferencia\n",
    "\n",
    "Si tuviesemos nuevos datos añadidos, modificaríamos el siguiente script con el nombre del archivo csv para reproducir las predicciones con los nuevos datos."
   ]
  },
  {
   "cell_type": "code",
   "execution_count": null,
   "metadata": {},
   "outputs": [],
   "source": [
    "'''\n",
    "import joblib\n",
    "import pandas as pd\n",
    "\n",
    "# Cargar el modelo entrenado\n",
    "model = joblib.load('random_forest_model.pkl')\n",
    "\n",
    "# Preprocesamiento de los nuevos datos\n",
    "new_data = pd.read_csv('nuevo_dataset.csv')\n",
    "new_data_preprocessed = preprocessor.transform(new_data)\n",
    "\n",
    "# Realizar predicciones\n",
    "predictions = model.predict(new_data_preprocessed)\n",
    "print(predictions)\n",
    "'''"
   ]
  }
 ],
 "metadata": {
  "kernelspec": {
   "display_name": "env1",
   "language": "python",
   "name": "python3"
  },
  "language_info": {
   "codemirror_mode": {
    "name": "ipython",
    "version": 3
   },
   "file_extension": ".py",
   "mimetype": "text/x-python",
   "name": "python",
   "nbconvert_exporter": "python",
   "pygments_lexer": "ipython3",
   "version": "3.13.0"
  }
 },
 "nbformat": 4,
 "nbformat_minor": 2
}
